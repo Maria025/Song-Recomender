{
 "cells": [
  {
   "cell_type": "code",
   "execution_count": null,
   "metadata": {},
   "outputs": [],
   "source": [
    "# import library\n",
    "import nltk\n",
    "from nltk.corpus import stopwords\n",
    "from random import randint\n",
    "from collections import Counter \n",
    "import ast"
   ]
  },
  {
   "cell_type": "code",
   "execution_count": null,
   "metadata": {},
   "outputs": [],
   "source": [
    "# Buat tuple yang menampung lirik lagu dan sentimen\n",
    "def create_tuple( fileName ):\n",
    "    open_file = open(fileName)\n",
    "    read_file = open_file.read()\n",
    "    collection = ast.literal_eval(read_file)\n",
    "    result = []\n",
    "    for i in collection:\n",
    "        record = (i[\"lyric\"], i[\"sentiment\"])\n",
    "        result.append(record)\n",
    "    return result"
   ]
  },
  {
   "cell_type": "code",
   "execution_count": null,
   "metadata": {},
   "outputs": [],
   "source": [
    "# Fungsi untuk menghapus stopwords dari lirik lagu dalam training set\n",
    "def stop_words_removal(lirik):\n",
    "    array = []\n",
    "    for i in lirik:\n",
    "        sentimen = i[1]\n",
    "        stop = set(stopwords.words('english')) \n",
    "        lirik2 = [word for word in i[0].split() if word not in stop]\n",
    "        combine = (lirik2 , sentimen)\n",
    "        array.append(combine)\n",
    "    return array "
   ]
  },
  {
   "cell_type": "code",
   "execution_count": null,
   "metadata": {},
   "outputs": [],
   "source": [
    "# Fungsi untuk return semua words dalam dataset lirik lagu\n",
    "def get_kata(lirik):\n",
    "    keseluruhan_kata = []\n",
    "    for(words, sentimen) in lirik:\n",
    "        keseluruhan_kata.extend(words)\n",
    "    return keseluruhan_kata"
   ]
  },
  {
   "cell_type": "code",
   "execution_count": null,
   "metadata": {},
   "outputs": [],
   "source": [
    "# Fungsi untuk menemukan frekuensi distribusi dari seluruh kata\n",
    "def fitur_kata(daftar_kata):\n",
    "\t  daftar_kata = nltk.FreqDist(daftar_kata)\n",
    "\t  fitur_kata = daftar_kata.keys()\n",
    "\t  return fitur_kata"
   ]
  },
  {
   "cell_type": "code",
   "execution_count": null,
   "metadata": {},
   "outputs": [],
   "source": [
    "# Fungsi untuk mengekstrasi fitur dari kata\n",
    "def extract_features(doc):\n",
    "\tdoc_words = set(doc)\n",
    "\tfeatures = {}\n",
    "\tfor word in fitur_kata: \n",
    "\t\tfeatures['contains(%s)' %word] = (word in doc_words)\n",
    "\treturn features "
   ]
  },
  {
   "cell_type": "code",
   "execution_count": null,
   "metadata": {},
   "outputs": [],
   "source": [
    "# Fungsi untuk menghapus stopwords dari history lirik\n",
    "def stop_word_removal1(lirik):\n",
    "    stop = set(stopwords.words('english'))\n",
    "    lirik2 = [word for word in lirik.split() if word not in stop]\n",
    "    return lirik2"
   ]
  },
  {
   "cell_type": "code",
   "execution_count": null,
   "metadata": {},
   "outputs": [],
   "source": [
    "# Fungsi untuk return daftar berdasarkan history milik user\n",
    "def user_sentiment(file):\n",
    "    open_file = open(file)\n",
    "    read_file = open_file.read()\n",
    "    split_file= read_file.split(\"|\")\n",
    "    hasil=[]\n",
    "    for lirik in split_file:\n",
    "        lirik2=stop_word_removal1(lirik)\n",
    "        output = classifier.classify(extract_features(lirik2))\n",
    "        hasil.append(output)\n",
    "    return hasil"
   ]
  },
  {
   "cell_type": "code",
   "execution_count": null,
   "metadata": {},
   "outputs": [],
   "source": [
    "# Fungsi untuk merekomendasikan lagu selanjutnya kepada user berdasarkan history user\n",
    "def recommendedSong(history):\n",
    "    c= Counter(history)\n",
    "    open_file = open(\"training_original.txt\")\n",
    "    read_file = open_file.read()\n",
    "    collection = ast.literal_eval(read_file)\n",
    "    if c['P']>=c['N']:\n",
    "        songs_positive=[i for i in collection if i[\"sentiment\"]=='P']\n",
    "        return songs_positive[randint(0,len(songs_positive)-1)][\"name\"]\n",
    "    else:\n",
    "        songs_negative=[i for i in collection if i[\"sentiment\"]=='N']\n",
    "        return songs_negative[randint(0,len(songs_negative)-1)][\"name\"]"
   ]
  },
  {
   "cell_type": "code",
   "execution_count": null,
   "metadata": {},
   "outputs": [],
   "source": [
    "# Training model menggunakan training set\n",
    "\n",
    "import nltk\n",
    "nltk.download('stopwords')\n",
    "\n",
    "# creating tuples\n",
    "# give path of file \"training.txt\"\n",
    "lirik = create_tuple(\"training_original.txt\")\n",
    "# removing stopwords\n",
    "corpus2 = stop_words_removal(lirik)\n",
    "# Extracting Features\n",
    "fitur_kata = fitur_kata(get_kata(corpus2))\n",
    "# Applying Features\n",
    "training_set = nltk.classify.apply_features(extract_features,corpus2)\n",
    "# Training Classifier\n",
    "classifier = nltk.NaiveBayesClassifier.train(training_set)"
   ]
  },
  {
   "cell_type": "code",
   "execution_count": null,
   "metadata": {},
   "outputs": [],
   "source": [
    "# Testing model dengan menggunakan dataset test\n",
    "\n",
    "lirik1= create_tuple(\"testing_original.txt\")\n",
    "# removing stopwords\n",
    "corpus1 = stop_words_removal(lirik1)\n",
    "# applying classifier model on test dataset\n",
    "test_set = nltk.classify.apply_features(extract_features,corpus1)\n"
   ]
  },
  {
   "cell_type": "code",
   "execution_count": null,
   "metadata": {},
   "outputs": [],
   "source": [
    "# Cek Akurasi\n",
    "print (\"\\t\" + \"Akurasi model:\" + str(nltk.classify.accuracy(classifier, test_set)))"
   ]
  },
  {
   "cell_type": "code",
   "execution_count": null,
   "metadata": {},
   "outputs": [],
   "source": [
    "#Test model prediksi sentiment berdasarkan 1 lirik\n",
    "def sentiment(output):\n",
    "    if str(output) == \"P\":\n",
    "        return \"Sentimen Positif\"\n",
    "    if str(output) == \"N\":\n",
    "        return \"Sentimen Negatif\"\n",
    "    if str(output) == \"A\":\n",
    "        return \"Sentiment Tidak Terdefinisi\"\n",
    "\n",
    "        \n",
    "lirik = \"Gotta take my chance tonight\"\n",
    "output = classifier.classify(extract_features(lirik.split()))\n",
    "print (sentiment(output))"
   ]
  },
  {
   "cell_type": "code",
   "execution_count": null,
   "metadata": {},
   "outputs": [],
   "source": [
    "#  Gunakan model untuk merekomendasikan lagu\n",
    "open_file = open(\"User_Last_5_Songs.txt\")\n",
    "read_file = open_file.read()\n",
    "split_file=read_file.split(\"|\")\n",
    "result_list=[]\n",
    "\n",
    "daftar_terakhir= user_sentiment(\"User_Last_5_Songs.txt\") \n",
    "print (\"recommend song: \" + recommendedSong(daftar_terakhir))"
   ]
  },
  {
   "cell_type": "code",
   "execution_count": null,
   "metadata": {},
   "outputs": [],
   "source": []
  }
 ],
 "metadata": {
  "kernelspec": {
   "display_name": "Python 3",
   "language": "python",
   "name": "python3"
  },
  "language_info": {
   "codemirror_mode": {
    "name": "ipython",
    "version": 3
   },
   "file_extension": ".py",
   "mimetype": "text/x-python",
   "name": "python",
   "nbconvert_exporter": "python",
   "pygments_lexer": "ipython3",
   "version": "3.8.2"
  }
 },
 "nbformat": 4,
 "nbformat_minor": 2
}
