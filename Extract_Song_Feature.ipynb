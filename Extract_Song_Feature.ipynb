{
 "cells": [
  {
   "cell_type": "code",
   "execution_count": null,
   "metadata": {},
   "outputs": [],
   "source": [
    "# Fungsi untuk mengekstrasi fitur dari kata\n",
    "def extract_features(doc):\n",
    "\tdoc_words = set(doc)\n",
    "\tfeatures = {}\n",
    "\tfor word in fitur_kata: \n",
    "\t\tfeatures['contains(%s)' %word] = (word in doc_words)\n",
    "\treturn features "
   ]
  },
  {
   "cell_type": "code",
   "execution_count": null,
   "metadata": {},
   "outputs": [],
   "source": [
    "# Fungsi untuk menghapus stopwords dari history lirik\n",
    "def stop_word_removal1(lirik):\n",
    "    stop = set(stopwords.words('english'))\n",
    "    lirik2 = [word for word in lirik.split() if word not in stop]\n",
    "    return lirik2"
   ]
  },
  {
   "cell_type": "code",
   "execution_count": null,
   "metadata": {},
   "outputs": [],
   "source": [
    "# Fungsi untuk return daftar berdasarkan history milik user\n",
    "def user_sentiment(file):\n",
    "    open_file = open(file)\n",
    "    read_file = open_file.read()\n",
    "    split_file= read_file.split(\"|\")\n",
    "    hasil=[]\n",
    "    for lirik in split_file:\n",
    "        lirik2=stop_word_removal1(lirik)\n",
    "        output = classifier.classify(extract_features(lirik2))\n",
    "        hasil.append(output)\n",
    "    return hasil"
   ]
  },
  {
   "cell_type": "code",
   "execution_count": null,
   "metadata": {},
   "outputs": [],
   "source": []
  }
 ],
 "metadata": {
  "kernelspec": {
   "display_name": "Python 3",
   "language": "python",
   "name": "python3"
  },
  "language_info": {
   "codemirror_mode": {
    "name": "ipython",
    "version": 3
   },
   "file_extension": ".py",
   "mimetype": "text/x-python",
   "name": "python",
   "nbconvert_exporter": "python",
   "pygments_lexer": "ipython3",
   "version": "3.8.2"
  }
 },
 "nbformat": 4,
 "nbformat_minor": 2
}
