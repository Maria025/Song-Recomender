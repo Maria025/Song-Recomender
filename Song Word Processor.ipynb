{
 "cells": [
  {
   "cell_type": "code",
   "execution_count": null,
   "metadata": {},
   "outputs": [],
   "source": [
    "# import library\n",
    "import nltk\n",
    "from nltk.corpus import stopwords\n",
    "from random import randint\n",
    "from collections import Counter \n",
    "import ast"
   ]
  },
  {
   "cell_type": "code",
   "execution_count": null,
   "metadata": {},
   "outputs": [],
   "source": [
    "# Buat tuple yang menampung lirik lagu dan sentimen\n",
    "def create_tuple( fileName ):\n",
    "    open_file = open(fileName)\n",
    "    read_file = open_file.read()\n",
    "    collection = ast.literal_eval(read_file)\n",
    "    result = []\n",
    "    for i in collection:\n",
    "        record = (i[\"lyric\"], i[\"sentiment\"])\n",
    "        result.append(record)\n",
    "    return result"
   ]
  },
  {
   "cell_type": "code",
   "execution_count": null,
   "metadata": {},
   "outputs": [],
   "source": [
    "# Fungsi untuk menghapus stopwords dari lirik lagu dalam training set\n",
    "def stop_words_removal(lirik):\n",
    "    array = []\n",
    "    for i in lirik:\n",
    "        sentimen = i[1]\n",
    "        stop = set(stopwords.words('english')) \n",
    "        lirik2 = [word for word in i[0].split() if word not in stop]\n",
    "        combine = (lirik2 , sentimen)\n",
    "        array.append(combine)\n",
    "    return array "
   ]
  },
  {
   "cell_type": "code",
   "execution_count": null,
   "metadata": {},
   "outputs": [],
   "source": [
    "# Fungsi untuk return semua words dalam dataset lirik lagu\n",
    "def get_kata(lirik):\n",
    "    keseluruhan_kata = []\n",
    "    for(words, sentimen) in lirik:\n",
    "        keseluruhan_kata.extend(words)\n",
    "    return keseluruhan_kata"
   ]
  },
  {
   "cell_type": "code",
   "execution_count": null,
   "metadata": {},
   "outputs": [],
   "source": [
    "# Fungsi untuk menemukan frekuensi distribusi dari seluruh kata\n",
    "def fitur_kata(daftar_kata):\n",
    "\t  daftar_kata = nltk.FreqDist(daftar_kata)\n",
    "\t  fitur_kata = daftar_kata.keys()\n",
    "\t  return fitur_kata"
   ]
  }
 ],
 "metadata": {
  "kernelspec": {
   "display_name": "Python 3",
   "language": "python",
   "name": "python3"
  },
  "language_info": {
   "codemirror_mode": {
    "name": "ipython",
    "version": 3
   },
   "file_extension": ".py",
   "mimetype": "text/x-python",
   "name": "python",
   "nbconvert_exporter": "python",
   "pygments_lexer": "ipython3",
   "version": "3.8.2"
  }
 },
 "nbformat": 4,
 "nbformat_minor": 2
}
